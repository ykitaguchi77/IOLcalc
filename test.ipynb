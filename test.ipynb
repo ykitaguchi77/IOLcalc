{
 "cells": [
  {
   "cell_type": "code",
   "execution_count": 88,
   "metadata": {},
   "outputs": [],
   "source": [
    "text = \"\"\"\n",
    "ESCRS IOL Calculator\n",
    "OD Right\n",
    "IOL Power\tBarrett\tEVO\tHill-RBF\tHoffer®QST\tKane\tPearl DGS\n",
    " \tA: 118.97\tA: 118.97\tA: 119.02\tpACD: 5.57\tA: 118.97\tA: 118.97\n",
    "16\t\t\t\t1.24\t\t\n",
    "16.5\t1.09\t\t\t0.93\t\t\n",
    "17\t0.76\t0.64\t0.76\t0.61\t0.59\t0.54\n",
    "17.5\t0.42\t0.33\t0.43\t0.30\t0.27\t0.21\n",
    "18\t0.09\t0.02\t0.09\t-0.03\t-0.05\t-0.13\n",
    "18.5\t-0.26\t-0.30\t-0.25\t-0.35\t-0.38\t-0.46\n",
    "19\t-0.60\t-0.62\t-0.59\t-0.68\t-0.71\t-0.80\n",
    "19.5\t-0.96\t\t\t-1.01\t\t\n",
    "20\t\t\t\t-1.35\t\t\n",
    "Alcon\n",
    "AcrySof AU00T0\n",
    "Target\t-0.01\t\tACD\t3.34\n",
    "AL\t24.01\t\tLT\t4.4\n",
    "K1\t44.41\t\tCCT\t508\n",
    "K2\t45.06\t\tCD (WTW)\t\n",
    "Index\t1.3375\t\t\t\n",
    "Use this QR code to share or re-display these results\n",
    "\n",
    "\n",
    "Biometric data is stored fully anonymised for at least one year.\n",
    "\"\"\"\n",
    "\n"
   ]
  },
  {
   "cell_type": "code",
   "execution_count": 42,
   "metadata": {},
   "outputs": [
    {
     "name": "stdout",
     "output_type": "stream",
     "text": [
      "['', 'ESCRS IOL Calculator', 'OD Right', 'IOL Power\\tBarrett\\tEVO\\tHill-RBF\\tHoffer®QST\\tKane\\tPearl DGS', ' \\tA: 118.97\\tA: 118.97\\tA: 119.02\\tpACD: 5.57\\tA: 118.97\\tA: 118.97', '16\\t\\t\\t\\t1.24\\t\\t', '16.5\\t1.09\\t\\t\\t0.93\\t\\t', '17\\t0.76\\t0.64\\t0.76\\t0.61\\t0.59\\t0.54', '17.5\\t0.42\\t0.33\\t0.43\\t0.30\\t0.27\\t0.21', '18\\t0.09\\t0.02\\t0.09\\t-0.03\\t-0.05\\t-0.13', '18.5\\t-0.26\\t-0.30\\t-0.25\\t-0.35\\t-0.38\\t-0.46', '19\\t-0.60\\t-0.62\\t-0.59\\t-0.68\\t-0.71\\t-0.80', '19.5\\t-0.96\\t\\t\\t-1.01\\t\\t', '20\\t\\t\\t\\t-1.35\\t\\t', 'Alcon', 'AcrySof AU00T0', 'Target\\t-0.01\\t\\tACD\\t3.34', 'AL\\t24.01\\t\\tLT\\t4.4', 'K1\\t44.41\\t\\tCCT\\t508', 'K2\\t45.06\\t\\tCD (WTW)\\t', 'Index\\t1.3375\\t\\t\\t', 'Use this QR code to share or re-display these results', '', '', 'Biometric data is stored fully anonymised for at least one year.', '']\n"
     ]
    }
   ],
   "source": [
    "lines = text.split(\"\\n\")\n",
    "print(lines)"
   ]
  },
  {
   "cell_type": "code",
   "execution_count": 70,
   "metadata": {},
   "outputs": [],
   "source": [
    "import pandas as pd\n",
    "import re\n",
    "\n",
    "def extract_iol_data(text, iolpw):\n",
    "    lines = text.split('\\n')\n",
    "    data = {}\n",
    "    current_key = None\n",
    "    for line in lines:\n",
    "        if 'IOL Power' in line:\n",
    "            print(\"in line!!!\")\n",
    "            keys = re.split(r'\\s{1,}', line.strip())\n",
    "            for key in keys:\n",
    "                data[key] = []\n",
    "            current_key = keys[0]\n",
    "        # elif current_key:\n",
    "        #     values = re.split(r'\\s{1,}', line.strip())\n",
    "        #     if len(values) == len(keys) and values[0] == str(iolpw):\n",
    "        #         for i, value in enumerate(values):\n",
    "        #             try:\n",
    "        #                 data[keys[i]].append(float(value))\n",
    "        #             except ValueError:\n",
    "        #                 data[keys[i]].append(None)\n",
    "        #     else:\n",
    "        #         break\n",
    "        #         #pass\n",
    "        # print(data)\n",
    "    return pd.DataFrame(data)"
   ]
  },
  {
   "cell_type": "code",
   "execution_count": 73,
   "metadata": {},
   "outputs": [
    {
     "name": "stdout",
     "output_type": "stream",
     "text": [
      "['17', '0.76', '0.64', '0.76', '0.61', '0.59', '0.54']\n"
     ]
    }
   ],
   "source": [
    "line = \"17\t0.76\t0.64\t0.76\t0.61\t0.59\t0.54\"\n",
    "keys = re.split(r'\\s{1,}', line.strip())\n",
    "print(keys)\n",
    "\n"
   ]
  },
  {
   "cell_type": "code",
   "execution_count": 76,
   "metadata": {},
   "outputs": [
    {
     "data": {
      "text/plain": [
       "'17'"
      ]
     },
     "execution_count": 76,
     "metadata": {},
     "output_type": "execute_result"
    }
   ],
   "source": [
    "data={}\n",
    "for key in keys:\n",
    "    data[key] = []\n",
    "    current_key = keys[0]\n",
    "current_key"
   ]
  },
  {
   "cell_type": "code",
   "execution_count": null,
   "metadata": {},
   "outputs": [],
   "source": [
    "   "
   ]
  },
  {
   "cell_type": "code",
   "execution_count": 93,
   "metadata": {},
   "outputs": [
    {
     "name": "stdout",
     "output_type": "stream",
     "text": [
      "['18.5', '-0.26', '-0.30', '-0.25', '-0.35', '-0.38', '-0.46']\n"
     ]
    }
   ],
   "source": [
    "# テキストから数値を抽出する関数\n",
    "def extract_numbers(text):\n",
    "    clipboard_text = text\n",
    "    iolpw = 18.5\n",
    "    \n",
    "    # テキストからIOLデータを抽出する関数を呼び出す\n",
    "    numbers = extract_iol_data(clipboard_text, str(iolpw))\n",
    "    return numbers\n",
    "\n",
    "# テキストからIOLデータを抽出する関数\n",
    "def extract_iol_data(text, iolpw):\n",
    "    lines = text.split('\\n')\n",
    "    data = {}\n",
    "    keys = None\n",
    "    \n",
    "    # テキストを行ごとに処理する\n",
    "    for line in lines:\n",
    "        \n",
    "        # 'IOL Power' が行に含まれているかチェック\n",
    "        if iolpw in line:\n",
    "            keys = re.split(r'\\s{1,}', line.strip())\n",
    "        elif keys:\n",
    "            pass  # ここで追加の処理を行うことができます\n",
    "    return keys\n",
    "\n",
    "num = extract_numbers(text)\n",
    "print(num)"
   ]
  },
  {
   "cell_type": "code",
   "execution_count": null,
   "metadata": {},
   "outputs": [],
   "source": []
  }
 ],
 "metadata": {
  "kernelspec": {
   "display_name": "IOLenv",
   "language": "python",
   "name": "python3"
  },
  "language_info": {
   "codemirror_mode": {
    "name": "ipython",
    "version": 3
   },
   "file_extension": ".py",
   "mimetype": "text/x-python",
   "name": "python",
   "nbconvert_exporter": "python",
   "pygments_lexer": "ipython3",
   "version": "3.12.2"
  }
 },
 "nbformat": 4,
 "nbformat_minor": 2
}
